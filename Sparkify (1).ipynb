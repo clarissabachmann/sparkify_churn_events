{
 "cells": [
  {
   "cell_type": "markdown",
   "metadata": {},
   "source": [
    "# Sparkify Project Workspace\n",
    "This workspace contains a tiny subset (128MB) of the full dataset available (12GB). Feel free to use this workspace to build your project, or to explore a smaller subset with Spark before deploying your cluster on the cloud. Instructions for setting up your Spark cluster is included in the last lesson of the Extracurricular Spark Course content.\n",
    "\n",
    "You can follow the steps below to guide your data analysis and model building portion of this project."
   ]
  },
  {
   "cell_type": "code",
   "execution_count": 1,
   "metadata": {},
   "outputs": [],
   "source": [
    "# import libraries for data prep\n",
    "import pandas as pd\n",
    "import numpy as np\n",
    "from pyspark.sql import SparkSession, Window\n",
    "import datetime\n",
    "import pyspark.sql.functions as F\n",
    "import pyspark.sql.types as T\n",
    "\n",
    "# import libraries for data visualization\n",
    "import matplotlib.pyplot as plt\n",
    "import seaborn as sns\n",
    "\n",
    "#import libraries required for modelling\n",
    "from pyspark.ml.feature import VectorAssembler, Normalizer, StandardScaler\n",
    "from pyspark.ml.classification import LogisticRegression, RandomForestClassifier, LinearSVC, GBTClassifier, OneVsRest\n",
    "from pyspark.ml.evaluation import MulticlassClassificationEvaluator\n",
    "from pyspark.ml.tuning import CrossValidator, ParamGridBuilder\n",
    "from pyspark.mllib.evaluation import MulticlassMetrics"
   ]
  },
  {
   "cell_type": "code",
   "execution_count": 2,
   "metadata": {},
   "outputs": [],
   "source": [
    "# create a Spark session\n",
    "spark = SparkSession \\\n",
    "    .builder \\\n",
    "    .appName(\"SparkifyWS\") \\\n",
    "    .getOrCreate()"
   ]
  },
  {
   "cell_type": "markdown",
   "metadata": {},
   "source": [
    "# Load and Clean Dataset\n",
    "Load a small subset of the dataset to perform initial investigation and model development"
   ]
  },
  {
   "cell_type": "code",
   "execution_count": 3,
   "metadata": {},
   "outputs": [],
   "source": [
    "#read in data\n",
    "data = spark.read.json(\"mini_sparkify_event_data.json\")"
   ]
  },
  {
   "cell_type": "code",
   "execution_count": 4,
   "metadata": {},
   "outputs": [
    {
     "data": {
      "text/plain": [
       "[Row(artist='Martha Tilston', auth='Logged In', firstName='Colin', gender='M', itemInSession=50, lastName='Freeman', length=277.89016, level='paid', location='Bakersfield, CA', method='PUT', page='NextSong', registration=1538173362000, sessionId=29, song='Rockpools', status=200, ts=1538352117000, userAgent='Mozilla/5.0 (Windows NT 6.1; WOW64; rv:31.0) Gecko/20100101 Firefox/31.0', userId='30'),\n",
       " Row(artist='Five Iron Frenzy', auth='Logged In', firstName='Micah', gender='M', itemInSession=79, lastName='Long', length=236.09424, level='free', location='Boston-Cambridge-Newton, MA-NH', method='PUT', page='NextSong', registration=1538331630000, sessionId=8, song='Canada', status=200, ts=1538352180000, userAgent='\"Mozilla/5.0 (Windows NT 6.1; WOW64) AppleWebKit/537.36 (KHTML, like Gecko) Chrome/37.0.2062.103 Safari/537.36\"', userId='9'),\n",
       " Row(artist='Adam Lambert', auth='Logged In', firstName='Colin', gender='M', itemInSession=51, lastName='Freeman', length=282.8273, level='paid', location='Bakersfield, CA', method='PUT', page='NextSong', registration=1538173362000, sessionId=29, song='Time For Miracles', status=200, ts=1538352394000, userAgent='Mozilla/5.0 (Windows NT 6.1; WOW64; rv:31.0) Gecko/20100101 Firefox/31.0', userId='30'),\n",
       " Row(artist='Enigma', auth='Logged In', firstName='Micah', gender='M', itemInSession=80, lastName='Long', length=262.71302, level='free', location='Boston-Cambridge-Newton, MA-NH', method='PUT', page='NextSong', registration=1538331630000, sessionId=8, song='Knocking On Forbidden Doors', status=200, ts=1538352416000, userAgent='\"Mozilla/5.0 (Windows NT 6.1; WOW64) AppleWebKit/537.36 (KHTML, like Gecko) Chrome/37.0.2062.103 Safari/537.36\"', userId='9'),\n",
       " Row(artist='Daft Punk', auth='Logged In', firstName='Colin', gender='M', itemInSession=52, lastName='Freeman', length=223.60771, level='paid', location='Bakersfield, CA', method='PUT', page='NextSong', registration=1538173362000, sessionId=29, song='Harder Better Faster Stronger', status=200, ts=1538352676000, userAgent='Mozilla/5.0 (Windows NT 6.1; WOW64; rv:31.0) Gecko/20100101 Firefox/31.0', userId='30')]"
      ]
     },
     "execution_count": 4,
     "metadata": {},
     "output_type": "execute_result"
    }
   ],
   "source": [
    "#create temporary view to work on\n",
    "data.createOrReplaceTempView(\"event_data\")\n",
    "data.head(5)"
   ]
  },
  {
   "cell_type": "code",
   "execution_count": 5,
   "metadata": {},
   "outputs": [
    {
     "name": "stdout",
     "output_type": "stream",
     "text": [
      "root\n",
      " |-- artist: string (nullable = true)\n",
      " |-- auth: string (nullable = true)\n",
      " |-- firstName: string (nullable = true)\n",
      " |-- gender: string (nullable = true)\n",
      " |-- itemInSession: long (nullable = true)\n",
      " |-- lastName: string (nullable = true)\n",
      " |-- length: double (nullable = true)\n",
      " |-- level: string (nullable = true)\n",
      " |-- location: string (nullable = true)\n",
      " |-- method: string (nullable = true)\n",
      " |-- page: string (nullable = true)\n",
      " |-- registration: long (nullable = true)\n",
      " |-- sessionId: long (nullable = true)\n",
      " |-- song: string (nullable = true)\n",
      " |-- status: long (nullable = true)\n",
      " |-- ts: long (nullable = true)\n",
      " |-- userAgent: string (nullable = true)\n",
      " |-- userId: string (nullable = true)\n",
      "\n"
     ]
    }
   ],
   "source": [
    "#print schema to understand columns\n",
    "data.printSchema()"
   ]
  },
  {
   "cell_type": "code",
   "execution_count": 6,
   "metadata": {},
   "outputs": [],
   "source": [
    "def clean_data(data):\n",
    "    '''\n",
    "    input: raw data\n",
    "    output: cleaned data\n",
    "    Function that removes duplicate entries and null rows\n",
    "    '''\n",
    "    #drop duplicated userIds\n",
    "    data.select(\"userId\").dropDuplicates().count()\n",
    "    #drop any rows with nulls in userId or sessionId\n",
    "    data_clean = data.dropna(subset = [\"userId\", \"sessionId\"])\n",
    "    #drop any rows with empty strings in userId\n",
    "    data_clean = data_clean.filter(data_clean[\"userId\"] != \"\")\n",
    "    return data_clean\n",
    "data_clean = clean_data(data)"
   ]
  },
  {
   "cell_type": "code",
   "execution_count": 7,
   "metadata": {},
   "outputs": [
    {
     "data": {
      "text/plain": [
       "[Row(artist='Martha Tilston', auth='Logged In', firstName='Colin', gender='M', itemInSession=50, lastName='Freeman', length=277.89016, level='paid', location='Bakersfield, CA', method='PUT', page='NextSong', registration=1538173362000, sessionId=29, song='Rockpools', status=200, ts=1538352117000, userAgent='Mozilla/5.0 (Windows NT 6.1; WOW64; rv:31.0) Gecko/20100101 Firefox/31.0', userId='30'),\n",
       " Row(artist='Five Iron Frenzy', auth='Logged In', firstName='Micah', gender='M', itemInSession=79, lastName='Long', length=236.09424, level='free', location='Boston-Cambridge-Newton, MA-NH', method='PUT', page='NextSong', registration=1538331630000, sessionId=8, song='Canada', status=200, ts=1538352180000, userAgent='\"Mozilla/5.0 (Windows NT 6.1; WOW64) AppleWebKit/537.36 (KHTML, like Gecko) Chrome/37.0.2062.103 Safari/537.36\"', userId='9')]"
      ]
     },
     "execution_count": 7,
     "metadata": {},
     "output_type": "execute_result"
    }
   ],
   "source": [
    "data_clean.head(2)"
   ]
  },
  {
   "cell_type": "code",
   "execution_count": 8,
   "metadata": {},
   "outputs": [
    {
     "data": {
      "text/plain": [
       "[Row(artist='Martha Tilston', auth='Logged In', firstName='Colin', gender='M', itemInSession=50, lastName='Freeman', length=277.89016, level='paid', location='Bakersfield, CA', method='PUT', page='NextSong', registration=1538173362000, sessionId=29, song='Rockpools', status=200, ts=1538352117000, userAgent='Mozilla/5.0 (Windows NT 6.1; WOW64; rv:31.0) Gecko/20100101 Firefox/31.0', userId='30', DateTime='2018-10-01 00:01:57', registration_ts='2018-09-28 22:22:42'),\n",
       " Row(artist='Five Iron Frenzy', auth='Logged In', firstName='Micah', gender='M', itemInSession=79, lastName='Long', length=236.09424, level='free', location='Boston-Cambridge-Newton, MA-NH', method='PUT', page='NextSong', registration=1538331630000, sessionId=8, song='Canada', status=200, ts=1538352180000, userAgent='\"Mozilla/5.0 (Windows NT 6.1; WOW64) AppleWebKit/537.36 (KHTML, like Gecko) Chrome/37.0.2062.103 Safari/537.36\"', userId='9', DateTime='2018-10-01 00:03:00', registration_ts='2018-09-30 18:20:30')]"
      ]
     },
     "execution_count": 8,
     "metadata": {},
     "output_type": "execute_result"
    }
   ],
   "source": [
    "def reformat_datetime(data_clean):\n",
    "    '''\n",
    "    input: cleaned data\n",
    "    output: data with columns that convert the epoch timestamps into datetime formatted strings\n",
    "    Function that reformats the ts columns into datetime formatted strings and saves them in new columns to allow for easier \n",
    "    future usage\n",
    "    '''\n",
    "    #change ts from epoch to string and input into new column\n",
    "    get_ts = F.udf(lambda x: datetime.datetime.fromtimestamp(x/1000.0).strftime(\"%Y-%m-%d %H:%M:%S\"))\n",
    "    data_clean = data_clean.withColumn(\"DateTime\", get_ts(data_clean.ts))\n",
    "    #reformat registration from epoch to string and input into new column\n",
    "    get_registration_ts = F.udf(lambda x: datetime.datetime.fromtimestamp(x/1000.0).strftime(\"%Y-%m-%d %H:%M:%S\"))\n",
    "    data_clean = data_clean.withColumn(\"registration_ts\", get_registration_ts(data_clean.registration))\n",
    "    return data_clean\n",
    "data_clean = reformat_datetime(data_clean)\n",
    "data_clean.head(2)"
   ]
  },
  {
   "cell_type": "code",
   "execution_count": 9,
   "metadata": {},
   "outputs": [
    {
     "data": {
      "text/plain": [
       "[Row(artist='Martha Tilston', auth='Logged In', firstName='Colin', gender='M', itemInSession=50, lastName='Freeman', length=277.89016, level='paid', location='Bakersfield, CA', method='PUT', page='NextSong', registration=1538173362000, sessionId=29, song='Rockpools', status=200, ts=1538352117000, userAgent='Mozilla/5.0 (Windows NT 6.1; WOW64; rv:31.0) Gecko/20100101 Firefox/31.0', userId='30', DateTime='2018-10-01 00:01:57', registration_ts='2018-09-28 22:22:42', state='CA'),\n",
       " Row(artist='Five Iron Frenzy', auth='Logged In', firstName='Micah', gender='M', itemInSession=79, lastName='Long', length=236.09424, level='free', location='Boston-Cambridge-Newton, MA-NH', method='PUT', page='NextSong', registration=1538331630000, sessionId=8, song='Canada', status=200, ts=1538352180000, userAgent='\"Mozilla/5.0 (Windows NT 6.1; WOW64) AppleWebKit/537.36 (KHTML, like Gecko) Chrome/37.0.2062.103 Safari/537.36\"', userId='9', DateTime='2018-10-01 00:03:00', registration_ts='2018-09-30 18:20:30', state='NH')]"
      ]
     },
     "execution_count": 9,
     "metadata": {},
     "output_type": "execute_result"
    }
   ],
   "source": [
    "#changing location to just the state initials and creating new column\n",
    "def update_state(data_clean):\n",
    "    '''\n",
    "    input: cleaned data with update timestamps\n",
    "    output: data with a state column included\n",
    "    Function that adds a column where location is limited to the state in case location is investigated\n",
    "    '''\n",
    "    state = F.udf(lambda x:x[-2:])\n",
    "    data_clean = data_clean.withColumn(\"state\", state(data_clean.location))\n",
    "    return data_clean\n",
    "data_clean = update_state(data_clean)\n",
    "data_clean.head(2)"
   ]
  },
  {
   "cell_type": "markdown",
   "metadata": {},
   "source": [
    "\n",
    "### Define Churn\n",
    "\n",
    "Now that the data has been cleaned up, churn events must be defined. This is done by labelling events where a user has been on the page named 'Cancellation confirmation'"
   ]
  },
  {
   "cell_type": "code",
   "execution_count": 10,
   "metadata": {},
   "outputs": [
    {
     "data": {
      "text/plain": [
       "Row(artist='Martha Tilston', auth='Logged In', firstName='Colin', gender='M', itemInSession=50, lastName='Freeman', length=277.89016, level='paid', location='Bakersfield, CA', method='PUT', page='NextSong', registration=1538173362000, sessionId=29, song='Rockpools', status=200, ts=1538352117000, userAgent='Mozilla/5.0 (Windows NT 6.1; WOW64; rv:31.0) Gecko/20100101 Firefox/31.0', userId='30', DateTime='2018-10-01 00:01:57', registration_ts='2018-09-28 22:22:42', state='CA')"
      ]
     },
     "execution_count": 10,
     "metadata": {},
     "output_type": "execute_result"
    }
   ],
   "source": [
    "#create new updated temporary view\n",
    "data_clean.createOrReplaceTempView(\"event_data\")\n",
    "data_clean.head()"
   ]
  },
  {
   "cell_type": "code",
   "execution_count": 11,
   "metadata": {},
   "outputs": [],
   "source": [
    "#label where a user has cancelled their account, label where they havent and then combine into one dataframe\n",
    "def label_churn(data_clean):\n",
    "    '''\n",
    "    input: fully cleaned data\n",
    "    output: data with churn events labelled\n",
    "    Function to label rows with whether a churn even occurs or not\n",
    "    '''\n",
    "    churn = spark.sql('SELECT DISTINCT userId, 1 as churn_event FROM EVENT_DATA WHERE Page = \"Cancellation Confirmation\"')\n",
    "    no_churn = spark.sql('SELECT DISTINCT userId, 0 as churn_event FROM EVENT_DATA \\\n",
    "                      WHERE userId NOT IN (SELECT DISTINCT userId FROM EVENT_DATA WHERE Page = \"Cancellation Confirmation\")')\n",
    "    churn_combined = churn.union(no_churn)\n",
    "    churn_combined.createOrReplaceTempView('churn_nochurn')\n",
    "    churn_combined = spark.sql('SELECT * FROM churn_nochurn ORDER BY RAND()')\n",
    "    churn_combined.count()\n",
    "    data_churned = data_clean.join(churn_combined, on='userId')\n",
    "    return data_churned\n",
    "data_churned = label_churn(data_clean)"
   ]
  },
  {
   "cell_type": "code",
   "execution_count": 12,
   "metadata": {},
   "outputs": [
    {
     "data": {
      "text/plain": [
       "[Row(userId='100010', artist='Sleeping With Sirens', auth='Logged In', firstName='Darianna', gender='F', itemInSession=0, lastName='Carpenter', length=202.97098, level='free', location='Bridgeport-Stamford-Norwalk, CT', method='PUT', page='NextSong', registration=1538016340000, sessionId=31, song='Captain Tyin Knots VS Mr Walkway (No Way)', status=200, ts=1539003534000, userAgent='\"Mozilla/5.0 (iPhone; CPU iPhone OS 7_1_2 like Mac OS X) AppleWebKit/537.51.2 (KHTML, like Gecko) Version/7.0 Mobile/11D257 Safari/9537.53\"', DateTime='2018-10-08 12:58:54', registration_ts='2018-09-27 02:45:40', state='CT', churn_event=0),\n",
       " Row(userId='100010', artist='Francesca Battistelli', auth='Logged In', firstName='Darianna', gender='F', itemInSession=1, lastName='Carpenter', length=196.54485, level='free', location='Bridgeport-Stamford-Norwalk, CT', method='PUT', page='NextSong', registration=1538016340000, sessionId=31, song='Beautiful_ Beautiful (Album)', status=200, ts=1539003736000, userAgent='\"Mozilla/5.0 (iPhone; CPU iPhone OS 7_1_2 like Mac OS X) AppleWebKit/537.51.2 (KHTML, like Gecko) Version/7.0 Mobile/11D257 Safari/9537.53\"', DateTime='2018-10-08 13:02:16', registration_ts='2018-09-27 02:45:40', state='CT', churn_event=0),\n",
       " Row(userId='100010', artist='Brutha', auth='Logged In', firstName='Darianna', gender='F', itemInSession=2, lastName='Carpenter', length=263.13098, level='free', location='Bridgeport-Stamford-Norwalk, CT', method='PUT', page='NextSong', registration=1538016340000, sessionId=31, song=\"She's Gone\", status=200, ts=1539003932000, userAgent='\"Mozilla/5.0 (iPhone; CPU iPhone OS 7_1_2 like Mac OS X) AppleWebKit/537.51.2 (KHTML, like Gecko) Version/7.0 Mobile/11D257 Safari/9537.53\"', DateTime='2018-10-08 13:05:32', registration_ts='2018-09-27 02:45:40', state='CT', churn_event=0),\n",
       " Row(userId='100010', artist=None, auth='Logged In', firstName='Darianna', gender='F', itemInSession=3, lastName='Carpenter', length=None, level='free', location='Bridgeport-Stamford-Norwalk, CT', method='PUT', page='Thumbs Up', registration=1538016340000, sessionId=31, song=None, status=307, ts=1539003933000, userAgent='\"Mozilla/5.0 (iPhone; CPU iPhone OS 7_1_2 like Mac OS X) AppleWebKit/537.51.2 (KHTML, like Gecko) Version/7.0 Mobile/11D257 Safari/9537.53\"', DateTime='2018-10-08 13:05:33', registration_ts='2018-09-27 02:45:40', state='CT', churn_event=0),\n",
       " Row(userId='100010', artist='Josh Ritter', auth='Logged In', firstName='Darianna', gender='F', itemInSession=4, lastName='Carpenter', length=316.23791, level='free', location='Bridgeport-Stamford-Norwalk, CT', method='PUT', page='NextSong', registration=1538016340000, sessionId=31, song='Folk Bloodbath', status=200, ts=1539004195000, userAgent='\"Mozilla/5.0 (iPhone; CPU iPhone OS 7_1_2 like Mac OS X) AppleWebKit/537.51.2 (KHTML, like Gecko) Version/7.0 Mobile/11D257 Safari/9537.53\"', DateTime='2018-10-08 13:09:55', registration_ts='2018-09-27 02:45:40', state='CT', churn_event=0)]"
      ]
     },
     "execution_count": 12,
     "metadata": {},
     "output_type": "execute_result"
    }
   ],
   "source": [
    "#create new temporary view with updated fields\n",
    "data_churned.createOrReplaceTempView(\"event_data\")\n",
    "data_churned.head(5)"
   ]
  },
  {
   "cell_type": "code",
   "execution_count": 13,
   "metadata": {},
   "outputs": [
    {
     "data": {
      "text/plain": [
       "225"
      ]
     },
     "execution_count": 13,
     "metadata": {},
     "output_type": "execute_result"
    }
   ],
   "source": [
    "#see how many users are included in the sample of data\n",
    "data_churned.select([\"userId\", \"churn_event\"]).dropDuplicates().count()"
   ]
  },
  {
   "cell_type": "markdown",
   "metadata": {},
   "source": [
    "\n",
    "### Explore Data\n",
    "Now that the churn events are labelled initial investigation into the data is completed by looking at whether certain factors can predict whether a churn event is more likely to occur like the registration timestamp or account level. These two were chosen to see if a paying user was more likely to cancel their membership or whether when a user registered could influence their experience of the service and therefore their future churn behaviour."
   ]
  },
  {
   "cell_type": "code",
   "execution_count": 19,
   "metadata": {},
   "outputs": [
    {
     "data": {
      "image/png": "[encoded data removed]",
      "text/plain": [
       "<matplotlib.figure.Figure at 0x7f7517cc2588>"
      ]
     },
     "metadata": {
      "needs_background": "light"
     },
     "output_type": "display_data"
    }
   ],
   "source": [
    "#visually investigate whether registration ts influences churn rate: do we have enough data to do it by ts?\n",
    "plt.figure(figsize=(20, 10))\n",
    "data_registration_date = data_churned.groupby([\"registration_ts\", \"churn_event\"]).count().sort(\"registration_ts\").toPandas()\n",
    "sns.barplot(x=\"churn_event\", y=\"count\", hue=\"registration_ts\", data=data_registration_date)\n",
    "plt.legend([],[], frameon=False).set_title('Count of Churn Events per Registration timestamp')\n",
    "#certain timestamps do seem to have higher rates of churn"
   ]
  },
  {
   "cell_type": "markdown",
   "metadata": {},
   "source": [
    "### Registration timestamp and churn events\n",
    "While there does seem to be registration timestamps where more churn events occur than on others, there is no clear pattern. This would require further investigation as to why certain registration timestamps have more churn events than others. A potential reason could be that subscription lengths influence when a user would cancel their account, however this would only explain churn events for paid users and again would require furture data and investigation to confirm."
   ]
  },
  {
   "cell_type": "code",
   "execution_count": 24,
   "metadata": {},
   "outputs": [
    {
     "data": {
      "text/plain": [
       "Text(0.5,1,'Count of Churn Events Account Level')"
      ]
     },
     "execution_count": 24,
     "metadata": {},
     "output_type": "execute_result"
    },
    {
     "data": {
      "image/png": "[encoded data removed]",
      "text/plain": [
       "<matplotlib.figure.Figure at 0x7f751501d6a0>"
      ]
     },
     "metadata": {
      "needs_background": "light"
     },
     "output_type": "display_data"
    }
   ],
   "source": [
    "#create plot to compare churn rates for free and paid users\n",
    "plt.figure(figsize=(10,5))\n",
    "data_level = data_churned.groupby(['churn_event', 'level']).count().toPandas()\n",
    "plot = sns.barplot(x='level', y='count', hue='churn_event', data=data_level)\n",
    "plot.set_title('Count of Churn Events Account Level')"
   ]
  },
  {
   "cell_type": "markdown",
   "metadata": {},
   "source": [
    " ### Account Level and churn events\n",
    "There are more churn events for paid users than for free users, but there are more paid users than free users. If proportionality is taken into account then seem to have a higher churn rate than paid users.\n"
   ]
  },
  {
   "cell_type": "markdown",
   "metadata": {},
   "source": [
    "### Feature Engineering\n",
    "After initial investigation of the data its time to build some features to investigate in the future classifications models. The features chosen are as follows:\n",
    "\n",
    "    Thumbs up: are users who like songs more or less likely to cancel their account\n",
    "    Thumbs down: are users who dislike songs more or less likely to cancel their account\n",
    "    Gender: does gender predict churn rate\n",
    "    Total songs: does the number of songs listened to predict churn rate\n",
    "    Upgrade: if a user upgrades from a free to a paid account, can this predict churn events\n",
    "    Add friends: if a user has added friends to their account, can this predict churn events\n",
    "\n",
    "These features were chosen as potential features that could logically influence a user's churn behaviour.\n",
    "    "
   ]
  },
  {
   "cell_type": "code",
   "execution_count": 25,
   "metadata": {},
   "outputs": [
    {
     "name": "stdout",
     "output_type": "stream",
     "text": [
      "+-------+------------------+-----------------+\n",
      "|summary|            userID|        thumbs_up|\n",
      "+-------+------------------+-----------------+\n",
      "|  count|               220|              220|\n",
      "|   mean| 66420.27727272727|            57.05|\n",
      "| stddev|106196.51156121881|65.67028650524044|\n",
      "|    min|                10|                1|\n",
      "|    max|                99|              437|\n",
      "+-------+------------------+-----------------+\n",
      "\n"
     ]
    }
   ],
   "source": [
    "#create feature for thumbs up\n",
    "thumbs_up = data_churned.select('userID','page').where(data_churned.page == 'Thumbs Up').groupBy('userID').count() \\\n",
    "             .withColumnRenamed('count', 'thumbs_up') \n",
    "thumbs_up.describe().show()"
   ]
  },
  {
   "cell_type": "code",
   "execution_count": 26,
   "metadata": {},
   "outputs": [
    {
     "name": "stdout",
     "output_type": "stream",
     "text": [
      "+-------+------------------+------------------+\n",
      "|summary|            userID|       thumbs_down|\n",
      "+-------+------------------+------------------+\n",
      "|  count|               203|               203|\n",
      "|   mean| 66066.16256157635|12.541871921182265|\n",
      "| stddev|106108.32569893777|13.198108566983787|\n",
      "|    min|                10|                 1|\n",
      "|    max|                99|                75|\n",
      "+-------+------------------+------------------+\n",
      "\n"
     ]
    }
   ],
   "source": [
    "#create feature for thumbs down\n",
    "thumbs_down = data_churned.select('userID','page').where(data_churned.page == 'Thumbs Down').groupBy('userID').count() \\\n",
    "                 .withColumnRenamed('count', 'thumbs_down')\n",
    "thumbs_down.describe().show()"
   ]
  },
  {
   "cell_type": "code",
   "execution_count": 27,
   "metadata": {},
   "outputs": [
    {
     "name": "stdout",
     "output_type": "stream",
     "text": [
      "+-------+------------------+------------------+\n",
      "|summary|            userId|      gender_total|\n",
      "+-------+------------------+------------------+\n",
      "|  count|               225|               225|\n",
      "|   mean|65391.013333333336|0.4622222222222222|\n",
      "| stddev|105396.47791907164|0.4996824388374478|\n",
      "|    min|                10|                 0|\n",
      "|    max|                99|                 1|\n",
      "+-------+------------------+------------------+\n",
      "\n"
     ]
    }
   ],
   "source": [
    "##create feature for gender\n",
    "gender = data_churned.select('userId', 'gender').dropDuplicates().replace(['M', 'F'], ['0', '1'], 'gender')\\\n",
    "        .select('userId',F.col('gender').cast('int')).withColumnRenamed('gender', 'gender_total')\n",
    "gender.describe().show()"
   ]
  },
  {
   "cell_type": "code",
   "execution_count": 28,
   "metadata": {},
   "outputs": [
    {
     "name": "stdout",
     "output_type": "stream",
     "text": [
      "+-------+------------------+-----------------+\n",
      "|summary|            userId|      songs_total|\n",
      "+-------+------------------+-----------------+\n",
      "|  count|               225|              225|\n",
      "|   mean|65391.013333333336|          1236.24|\n",
      "| stddev|105396.47791907164|1329.531716432519|\n",
      "|    min|                10|                6|\n",
      "|    max|                99|             9632|\n",
      "+-------+------------------+-----------------+\n",
      "\n"
     ]
    }
   ],
   "source": [
    "#create feature for how many songs does each user listen to\n",
    "total_songs= data_churned.select('userId', 'song').groupby('userId').count().withColumnRenamed('count', 'songs_total')\n",
    "total_songs.describe().show()"
   ]
  },
  {
   "cell_type": "code",
   "execution_count": 29,
   "metadata": {},
   "outputs": [
    {
     "name": "stdout",
     "output_type": "stream",
     "text": [
      "+-------+------------------+------------------+\n",
      "|summary|            userID|           upgrade|\n",
      "+-------+------------------+------------------+\n",
      "|  count|               168|               168|\n",
      "|   mean| 61369.56547619047|2.9702380952380953|\n",
      "| stddev|103748.38346043936|2.5557861915159594|\n",
      "|    min|               100|                 1|\n",
      "|    max|                99|                15|\n",
      "+-------+------------------+------------------+\n",
      "\n"
     ]
    }
   ],
   "source": [
    "#create feature for upgrade\n",
    "upgrade = data_churned.select('userID','page').where(data_churned.page == 'Upgrade').groupBy('userID').count() \\\n",
    "             .withColumnRenamed('count', 'upgrade') \n",
    "upgrade.describe().show()"
   ]
  },
  {
   "cell_type": "code",
   "execution_count": 30,
   "metadata": {},
   "outputs": [
    {
     "name": "stdout",
     "output_type": "stream",
     "text": [
      "+-------+------------------+------------------+\n",
      "|summary|            userID|        add_friend|\n",
      "+-------+------------------+------------------+\n",
      "|  count|               206|               206|\n",
      "|   mean| 66076.91262135922|20.762135922330096|\n",
      "| stddev|106860.60517425007|20.646779074405007|\n",
      "|    min|                10|                 1|\n",
      "|    max|                99|               143|\n",
      "+-------+------------------+------------------+\n",
      "\n"
     ]
    }
   ],
   "source": [
    "#create feature for adding friends\n",
    "add_friend = data_churned.select('userID','page').where(data_churned.page == 'Add Friend').groupBy('userID').count() \\\n",
    "             .withColumnRenamed('count', 'add_friend') \n",
    "add_friend.describe().show()"
   ]
  },
  {
   "cell_type": "code",
   "execution_count": 31,
   "metadata": {},
   "outputs": [
    {
     "name": "stdout",
     "output_type": "stream",
     "text": [
      "+-------+------------------+------------------+\n",
      "|summary|            userId|             label|\n",
      "+-------+------------------+------------------+\n",
      "|  count|               225|               225|\n",
      "|   mean|65391.013333333336|0.2311111111111111|\n",
      "| stddev|105396.47791907164|0.4224832108996327|\n",
      "|    min|                10|                 0|\n",
      "|    max|                99|                 1|\n",
      "+-------+------------------+------------------+\n",
      "\n"
     ]
    }
   ],
   "source": [
    "#rename churn_event to label\n",
    "label = data_churned.select('userId', F.col('churn_event').alias('label')).dropDuplicates()\n",
    "label.describe().show()"
   ]
  },
  {
   "cell_type": "code",
   "execution_count": 32,
   "metadata": {},
   "outputs": [
    {
     "name": "stdout",
     "output_type": "stream",
     "text": [
      "+------+---------+-----------+------------+-----------+-------+----------+-----+\n",
      "|userID|thumbs_up|thumbs_down|gender_total|songs_total|upgrade|add_friend|label|\n",
      "+------+---------+-----------+------------+-----------+-------+----------+-----+\n",
      "|100010|       17|          5|           1|        381|      2|         4|    0|\n",
      "|200002|       21|          6|           0|        474|      2|         4|    0|\n",
      "|   125|        0|          0|           0|         11|      0|         0|    1|\n",
      "|   124|      171|         41|           1|       4825|      0|        74|    0|\n",
      "|    51|      100|         21|           0|       2464|      0|        28|    1|\n",
      "+------+---------+-----------+------------+-----------+-------+----------+-----+\n",
      "only showing top 5 rows\n",
      "\n"
     ]
    }
   ],
   "source": [
    "#join features together\n",
    "features_joined = thumbs_up.join(thumbs_down, 'userId', 'outer').join(gender, 'userId', 'outer')\\\n",
    "    .join(total_songs, 'userId', 'outer').join(upgrade, 'userId', 'outer')\\\n",
    "    .join(add_friend, 'userId', 'outer').join(label, 'userId', 'outer').fillna(0)\n",
    "features_joined.show(5)"
   ]
  },
  {
   "cell_type": "code",
   "execution_count": 33,
   "metadata": {},
   "outputs": [
    {
     "name": "stdout",
     "output_type": "stream",
     "text": [
      "+---------+-----------+------------+-----------+-------+----------+-----+\n",
      "|thumbs_up|thumbs_down|gender_total|songs_total|upgrade|add_friend|label|\n",
      "+---------+-----------+------------+-----------+-------+----------+-----+\n",
      "|       17|          5|           1|        381|      2|         4|    0|\n",
      "|       21|          6|           0|        474|      2|         4|    0|\n",
      "|        0|          0|           0|         11|      0|         0|    1|\n",
      "|      171|         41|           1|       4825|      0|        74|    0|\n",
      "|      100|         21|           0|       2464|      0|        28|    1|\n",
      "|        7|          1|           0|        201|      2|         1|    0|\n",
      "|       81|         14|           0|       2278|      0|        31|    0|\n",
      "|      163|         29|           1|       3437|      1|        33|    1|\n",
      "|       58|          3|           1|       1002|      2|        11|    0|\n",
      "|       17|          3|           0|        310|      0|         6|    1|\n",
      "|       96|         17|           1|       2304|      1|        41|    0|\n",
      "|       11|          0|           1|        118|      0|         3|    0|\n",
      "|       86|         16|           0|       2149|      1|        29|    1|\n",
      "|       40|          9|           1|        848|      9|         6|    0|\n",
      "|       95|         24|           0|       2469|      1|        41|    0|\n",
      "|      303|         28|           1|       4428|      0|        63|    0|\n",
      "|       11|          5|           0|        319|      2|         7|    1|\n",
      "|      154|         22|           0|       3603|      5|        47|    1|\n",
      "|       72|          9|           1|       1342|      1|        12|    0|\n",
      "|        9|          3|           0|        292|      2|         7|    0|\n",
      "+---------+-----------+------------+-----------+-------+----------+-----+\n",
      "only showing top 20 rows\n",
      "\n"
     ]
    }
   ],
   "source": [
    "#drop userID\n",
    "features = features_joined.drop('userID')\n",
    "features.show()"
   ]
  },
  {
   "cell_type": "markdown",
   "metadata": {},
   "source": [
    "### Modeling\n",
    "Now that features have been created we can begin selecting and testing classification models. Spark supports 5 potential classification algorithms and 4 were selected to initially run without any parameter tuning. The effectiveness of these models will be judged mainly by their F1 result as we are working with an imbalanced data set and using the weighted average of precision and recall will give us a better idea of model performance than accuracy.\n",
    "First Features have to be scaled and vectorized. Then data will be seperated into training and test data"
   ]
  },
  {
   "cell_type": "code",
   "execution_count": 35,
   "metadata": {},
   "outputs": [],
   "source": [
    "#assemble vector\n",
    "columns = ['thumbs_up', 'thumbs_down', 'gender_total', 'songs_total', 'upgrade', 'add_friend']\n",
    "assembler = VectorAssembler(inputCols = columns, outputCol='numberFeatures')\n",
    "vector_data = assembler.transform(features)\n",
    "#standardize the features\n",
    "scaler = StandardScaler(inputCol= 'numberFeatures', outputCol = 'features', withStd = True)\n",
    "scaler_model = scaler.fit(vector_data)\n",
    "scaled_data = scaler_model.transform(vector_data)"
   ]
  },
  {
   "cell_type": "code",
   "execution_count": null,
   "metadata": {},
   "outputs": [],
   "source": [
    "#seperate test and training data\n",
    "train, test = scaled_data.randomSplit([0.8, 0.2], seed=40)"
   ]
  },
  {
   "cell_type": "markdown",
   "metadata": {},
   "source": [
    "### Logistic Regression\n",
    "First a logistic regression will be implemented to see how well it performs. Logistic regressions are often used as first try algorithms due to ease of use, quick to run, and robust nature."
   ]
  },
  {
   "cell_type": "code",
   "execution_count": null,
   "metadata": {},
   "outputs": [],
   "source": [
    "#complete a logistic regression as its a good starting place\n",
    "logReg = LogisticRegression(maxIter=5, regParam=0.0, fitIntercept=False)\n",
    "f_score = MulticlassClassificationEvaluator(metricName = \"f1\")\n",
    "logReg_train = logReg.fit(train)\n",
    "logReg_test = logReg_train.transform(test)\n",
    "\n",
    "result = MulticlassClassificationEvaluator(predictionCol = \"prediction\")\n",
    "accuracy = result.evaluate(logReg_test,{result.metricName: 'accuracy'})\n",
    "f1 = result.evaluate(logReg_test,{result.metricName: 'f1'})\n",
    "print(accuracy)\n",
    "print(f1)"
   ]
  },
  {
   "cell_type": "markdown",
   "metadata": {},
   "source": [
    "### Result: Logistic Regression\n",
    "The results from the logistic regression are not bad with an accuracy of 0.766 and an F1 value of 0.7281"
   ]
  },
  {
   "cell_type": "markdown",
   "metadata": {},
   "source": [
    "### Random Forest\n",
    "Next a random forest classifier will be run. Random forest models are based on decision trees where where they are trained in parallel. Random forest was chosen due to its ability to work well with large data sets which will become useful when run on the full dataset. However random forest classifications are prone to overfitting so this will need to be kept in mind when analyzing results.\n"
   ]
  },
  {
   "cell_type": "code",
   "execution_count": null,
   "metadata": {},
   "outputs": [],
   "source": [
    "#complete Random forest classifier\n",
    "randFor = RandomForestClassifier()\n",
    "f_score = MulticlassClassificationEvaluator(metricName = \"f1\")\n",
    "randFor_train = randFor.fit(train)\n",
    "randFor_test = randFor_train.transform(test)\n",
    "\n",
    "result = MulticlassClassificationEvaluator(predictionCol = \"prediction\")\n",
    "accuracy = result.evaluate(randFor_test,{result.metricName: 'accuracy'})\n",
    "f1 = result.evaluate(randFor_test,{result.metricName: 'f1'})\n",
    "print(accuracy)\n",
    "print(f1)"
   ]
  },
  {
   "cell_type": "markdown",
   "metadata": {},
   "source": [
    "### Result: Random Forest\n",
    "The results from the random forest classifier are stronger with an accuracy of 0.809 and a F1 score of 0.756. These values are not extremely high suggesting overfitting has not occured."
   ]
  },
  {
   "cell_type": "markdown",
   "metadata": {},
   "source": [
    "### Gradient Boosting Classifier\n",
    "Next a gradient boosting classifier will be run. This algorithm is also based on decision trees, however the unlike the random forest classifers the decision trees are processed sequentially rather then in parallel. Gradient boosting classifiers work well with imbalanced data sets, making it ideal for this training set. However gradient boosting classifiers are also prone to overfitting so this will need to be kept in mind when analyzing results.\n"
   ]
  },
  {
   "cell_type": "code",
   "execution_count": null,
   "metadata": {},
   "outputs": [],
   "source": [
    "#complete a gradient boosting classifier\n",
    "gradBoo = GBTClassifier()\n",
    "f_score = MulticlassClassificationEvaluator(metricName = \"f1\")\n",
    "\n",
    "gradBoo_train = gradBoo.fit(train)\n",
    "gradBoo_test = gradBoo_train.transform(test)\n",
    "\n",
    "result = MulticlassClassificationEvaluator(predictionCol = \"prediction\")\n",
    "accuracy = result.evaluate(gradBoo_test,{result.metricName: 'accuracy'})\n",
    "f1 = result.evaluate(gradBoo_test,{result.metricName: 'f1'})\n",
    "print(accuracy)\n",
    "print(f1)"
   ]
  },
  {
   "cell_type": "markdown",
   "metadata": {},
   "source": [
    "### Result: Gradient Boosting Classifier\n",
    "The results from the gradient boosting classifier are weaker with an accuracy of 0.723 and a F1 score of 0.729. Again these numbers are not extremely high so overfitting is not likely to have occured."
   ]
  },
  {
   "cell_type": "markdown",
   "metadata": {},
   "source": [
    "### Linear Support Vector Machine\n",
    "The final algorithm that will be tested is a linear support vector machine. A linear support vector machine differentiates between two classifications by creating a hyperplane in the a a space that has dimensions equal to the number of features. It does this as many times as is required to find the maximum diststance between data points of both classifications. SVM was chosen as it works well with many features. However it perfoms poorly with large datasets so unless it is highly accurate it is unlikely to be the right choice for the full data set. "
   ]
  },
  {
   "cell_type": "code",
   "execution_count": null,
   "metadata": {},
   "outputs": [],
   "source": [
    "#complete linear support vector machine with a OneVsRest \n",
    "linSVC = LinearSVC()\n",
    "f_score = MulticlassClassificationEvaluator(metricName = \"f1\")\n",
    "linSVC_train = linSVC.fit(train)\n",
    "linSVC_test = linSVC_train.transform(test)\n",
    "\n",
    "result = MulticlassClassificationEvaluator(predictionCol = \"prediction\")\n",
    "accuracy = result.evaluate(linSVC_test,{result.metricName: 'accuracy'})\n",
    "f1 = result.evaluate(linSVC_test,{result.metricName: 'f1'})\n",
    "print(accuracy)\n",
    "print(f1)"
   ]
  },
  {
   "cell_type": "markdown",
   "metadata": {},
   "source": [
    "### Result: Linear SVC\n",
    "The linear SVC performs well with an accuracy of 0.809 and an F1 value of 0.723. However it was by far the slowest to run and would not be suitable for the full dataset."
   ]
  },
  {
   "cell_type": "markdown",
   "metadata": {},
   "source": [
    "### Algorithm Choice for parameter tuning\n",
    "Looking at the F1 values and considering the implications of running the model on the full data set the random forest model seems to perform the best with the highest F1 value. From this we will further refine the model by tuning the parameters in an attempt to improve the accuracy of the model. I will also increase the size of the test data to increase the number of churn events in the test data set, as we have a low number of churn events in this data subset."
   ]
  },
  {
   "cell_type": "code",
   "execution_count": 36,
   "metadata": {},
   "outputs": [],
   "source": [
    "#find best hyperparameters to refine for random forest\n",
    "#first update the split\n",
    "train, test = scaled_data.randomSplit([0.7, 0.3], seed=40)\n",
    "randFor_tuned = RandomForestClassifier()"
   ]
  },
  {
   "cell_type": "markdown",
   "metadata": {},
   "source": [
    "### Parameter choice\n",
    "The two parameters chosen to tune are number of trees and the max depth. These are the two most common chosen to tune as they are the most related to the accuracy of the model, while the other available parameters are used more to improve model performance. These may become more relevant when working with the full data set. Grid search will be used to find the best hyperparameters."
   ]
  },
  {
   "cell_type": "code",
   "execution_count": 46,
   "metadata": {},
   "outputs": [],
   "source": [
    "#set the grid and apply in cross validator\n",
    "f_score = MulticlassClassificationEvaluator(metricName = \"f1\")\n",
    "paramGrid = ParamGridBuilder()\\\n",
    "       .addGrid(randFor_tuned.maxDepth,[5,25]) \\\n",
    "       .addGrid(randFor_tuned.numTrees,[1,100]) \\\n",
    "       .build()\n",
    "\n",
    "crossval_RF = CrossValidator(estimator=randFor_tuned,\n",
    "                           evaluator=f_score,\n",
    "                           estimatorParamMaps=paramGrid,\n",
    "                           numFolds=10)"
   ]
  },
  {
   "cell_type": "code",
   "execution_count": 47,
   "metadata": {},
   "outputs": [
    {
     "name": "stdout",
     "output_type": "stream",
     "text": [
      "0.8235294117647058\n",
      "0.7438330170777988\n"
     ]
    }
   ],
   "source": [
    "#run random forest classifier again and return accuracy\n",
    "randFor_train_tuned = randFor_tuned.fit(train)\n",
    "randFor_test_tuned = randFor_train_tuned.transform(test)\n",
    "\n",
    "result = MulticlassClassificationEvaluator(predictionCol = \"prediction\")\n",
    "accuracy = result.evaluate(randFor_test_tuned,{result.metricName: 'accuracy'})\n",
    "f1 = result.evaluate(randFor_test_tuned,{result.metricName: 'f1'})\n",
    "print(accuracy)\n",
    "print(f1)"
   ]
  },
  {
   "cell_type": "markdown",
   "metadata": {},
   "source": [
    "### Results of Parameter tuning\n",
    "After having ran several options to tune the parameters, no variation improved the results. In all cases the F1 value decreased (0.744) and the accuracy of the model increased (0.8235). This is probably due to increasing the size of the test data rather than a parameter change. This suggests that the default parameter selection is already the most effective, but the imbalanced data set is limiting the model performance. "
   ]
  },
  {
   "cell_type": "markdown",
   "metadata": {},
   "source": [
    "### Feature Importance\n",
    "Now that the model has been tuned it's time to look at which features are most relevant for predicting churn_events"
   ]
  },
  {
   "cell_type": "code",
   "execution_count": 41,
   "metadata": {},
   "outputs": [
    {
     "data": {
      "text/plain": [
       "SparseVector(6, {0: 0.1782, 1: 0.2285, 2: 0.0239, 3: 0.1912, 4: 0.115, 5: 0.2631})"
      ]
     },
     "execution_count": 41,
     "metadata": {},
     "output_type": "execute_result"
    }
   ],
   "source": [
    "#Feature importance plot\n",
    "randFor_train_tuned.featureImportances"
   ]
  },
  {
   "cell_type": "code",
   "execution_count": 42,
   "metadata": {},
   "outputs": [],
   "source": [
    "importances = [0.1782, 0.02285, 0.0239, 0.1912, 0.115, 0.2631]\n",
    "features = [\"thumbs_up\", \"thumbs_down\", \"gender_total\", \"songs_total\", \"upgrade\", \"add_friend\"]"
   ]
  },
  {
   "cell_type": "code",
   "execution_count": 45,
   "metadata": {},
   "outputs": [
    {
     "data": {
      "text/plain": [
       "Text(0.5,1,'Feature Importance')"
      ]
     },
     "execution_count": 45,
     "metadata": {},
     "output_type": "execute_result"
    },
    {
     "data": {
      "image/png": "[encoded data removed]",
      "text/plain": [
       "<matplotlib.figure.Figure at 0x7f7514dfab70>"
      ]
     },
     "metadata": {
      "needs_background": "light"
     },
     "output_type": "display_data"
    }
   ],
   "source": [
    "featureArray = np.arange(len(features))\n",
    "plt.barh(featureArray, importances, align = 'center')\n",
    "plt.xlabel('Importance')\n",
    "plt.yticks(featureArray, features)\n",
    "plt.title('Feature Importance')"
   ]
  },
  {
   "cell_type": "markdown",
   "metadata": {},
   "source": [
    "## Summary\n",
    "In this project I aimed to investigate what features could predict a customer to cancel their membership, churn event, with a music streaming app, Sparkify. After trying several available classification algorithms a random forest classification algorith was used to investigate the included features ability to predict churn rates. The results of this model, after tuning the parameters, were an accuracy of 0.794 and a F1 value of 0.756. \n",
    "\n",
    "The results suggest that the model, while not performing poorly id not able to fully classify all the data. This suggests that features chosen to include do not cover all the variation in the churn events.\n",
    "\n",
    "Investigation into the feature importance in the model showed that if a user added a friend (0.2631) had the strongest influence on churn rates. This was followed by thumbs up (0.1782) and song total (0.1912) which had similar levels of importance. Then upgrade has a slightly lower level of importance (0.115). Finally thumbs down (0.02285) and gender (0.0239) had the lowest influence of churn events.\n",
    "\n",
    "### Improvements\n",
    "The main improvement available in this investigation is feature choice. The high number of relevant and related features made choosing features difficult and clearly limited the effectiveness of the model. Spending more time investigation any possible influence feature could lead to more effective feature choice and a more accurate model.\n",
    "\n",
    "Another improvement would be to build, train, and test this model on a bigger data set with a more balanced train and test data sets. This dataset was unbalanced with few churn events in the test dataset limiting our ability to fully test the models ability predict churn events.\n",
    "\n",
    "On the other hand using smaller datasets would allow us to work with this data without spark. This would give us a wider range of avaible models to use allowing us to create more accurate models, not currently available to use with the larger dataset."
   ]
  },
  {
   "cell_type": "code",
   "execution_count": null,
   "metadata": {},
   "outputs": [],
   "source": []
  }
 ],
 "metadata": {
  "kernelspec": {
   "display_name": "Python 3",
   "language": "python",
   "name": "python3"
  },
  "language_info": {
   "codemirror_mode": {
    "name": "ipython",
    "version": 3
   },
   "file_extension": ".py",
   "mimetype": "text/x-python",
   "name": "python",
   "nbconvert_exporter": "python",
   "pygments_lexer": "ipython3",
   "version": "3.6.3"
  }
 },
 "nbformat": 4,
 "nbformat_minor": 2
}
